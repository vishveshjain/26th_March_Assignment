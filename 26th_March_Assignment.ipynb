{
 "cells": [
  {
   "cell_type": "code",
   "execution_count": null,
   "id": "8baf2e9d-f9b4-47ff-86df-8bd609f96d33",
   "metadata": {},
   "outputs": [],
   "source": [
    "\"\"\"Q1. Explain the difference between simple linear regression and multiple linear regression. Provide an example of each.\n",
    "\n",
    "    Ans: Simple linear regression is a statistical method that examines the relationship between two continuous variables. \n",
    "         It involves one independent variable and one dependent variable, and aims to find a linear relationship between them. \n",
    "         An example of simple linear regression is analyzing the relationship between a person's height and weight.\n",
    "         Multiple linear regression, involves examining the relationship between multiple independent variables and one dependent variable. \n",
    "         It aims to find a linear relationship between the independent variables and the dependent variable. \n",
    "         An example of multiple linear regression is analyzing the relationship between a person's salary and their level of education, years of experience, and age.\n",
    "\"\"\""
   ]
  },
  {
   "cell_type": "code",
   "execution_count": null,
   "id": "cb9e6b17-3484-47d1-95b8-22543c1c4dc8",
   "metadata": {},
   "outputs": [],
   "source": [
    "\"\"\"Q2. Discuss the assumptions of linear regression. How can you check whether these assumptions hold in a given dataset?\n",
    "\n",
    "    Ans: Linear regression assumes that there is a linear relationship between the independent and dependent variables, the residuals are normally distributed, \n",
    "         the variance of the residuals is constant across the range of the independent variable, and there is no multicollinearity among independent variables. \n",
    "         These assumptions can be checked by analyzing residual plots, Q-Q plots, and correlation matrices.\n",
    "\"\"\""
   ]
  },
  {
   "cell_type": "code",
   "execution_count": null,
   "id": "9a1c17d3-1d53-4872-9a87-ca4da8660497",
   "metadata": {},
   "outputs": [],
   "source": [
    "\"\"\"Q3. How do you interpret the slope and intercept in a linear regression model? Provide an example using a real-world scenario.\n",
    "\n",
    "    Ans: In a linear regression model, the slope represents the rate of change of the dependent variable with respect to the independent variable, \n",
    "         while the intercept represents the value of the dependent variable when the independent variable is zero. \n",
    "         For example, in a model predicting house prices based on square footage, the slope represents the increase in price per square foot, \n",
    "         and the intercept represents the base price of a house with zero square footage.\n",
    "\"\"\""
   ]
  },
  {
   "cell_type": "code",
   "execution_count": null,
   "id": "7c0e2376-2648-4478-bfec-759437f3bc54",
   "metadata": {},
   "outputs": [],
   "source": [
    "\"\"\"Q4. Explain the concept of gradient descent. How is it used in machine learning?\n",
    "\n",
    "    Ans: Gradient descent is a method used in machine learning to find the best values for the parameters of a model by iteratively adjusting them to minimize \n",
    "         the error between predicted and actual outcomes. It does this by calculating the gradient of the error function with respect to the parameters and \n",
    "         taking small steps in the direction of steepest descent until it reaches a minimum.\n",
    "\"\"\""
   ]
  },
  {
   "cell_type": "code",
   "execution_count": null,
   "id": "e3990758-811a-41a3-8f9d-c72d76e06625",
   "metadata": {},
   "outputs": [],
   "source": [
    "\"\"\"Q5. Describe the multiple linear regression model. How does it differ from simple linear regression?\n",
    "\n",
    "    Ans: Multiple linear regression is a statistical method that helps us understand the relationship between multiple independent variables and a dependent variable. \n",
    "         Unlike simple linear regression, which only uses one independent variable, multiple linear regression considers several independent variables that can impact \n",
    "         the dependent variable.\n",
    "\"\"\""
   ]
  },
  {
   "cell_type": "code",
   "execution_count": null,
   "id": "0d0aeefa-1da2-4a2f-a0c0-1b16ac8eb24e",
   "metadata": {},
   "outputs": [],
   "source": [
    "\"\"\"Q6. Explain the concept of multicollinearity in multiple linear regression. How can you detect and address this issue?\n",
    "\n",
    "    Ans: Multicollinearity is a problem in multiple linear regression where the independent variables are highly correlated with each other. \n",
    "         This can cause issues in accurately estimating the effect of each independent variable on the dependent variable. \n",
    "         To detect and address multicollinearity, one can use correlation matrices and variance inflation factors (VIF) to identify highly correlated variables and \n",
    "         remove them or use regularization techniques to reduce their impact.\n",
    "\"\"\""
   ]
  },
  {
   "cell_type": "code",
   "execution_count": null,
   "id": "44599452-fd1f-4283-b16d-35439320d51d",
   "metadata": {},
   "outputs": [],
   "source": [
    "\"\"\"Q7. Describe the polynomial regression model. How is it different from linear regression?\n",
    "\n",
    "    Ans: Polynomial regression is a type of regression analysis where the relationship between the independent variable (X) and the dependent variable (Y) \n",
    "         is modeled as an nth degree polynomial. It differs from linear regression as it allows for a curved relationship between X and Y, rather than assuming a straight line.\n",
    "\"\"\""
   ]
  },
  {
   "cell_type": "code",
   "execution_count": null,
   "id": "5447d9db-0c8a-43ea-b46f-da82b7d56d1a",
   "metadata": {},
   "outputs": [],
   "source": [
    "\"\"\"Q8. What are the advantages and disadvantages of polynomial regression compared to linear regression? In what situations would you prefer to use polynomial regression?\n",
    "\n",
    "    Ans: Advantages:\n",
    "            1. Polynomial regression can capture non-linear relationships between variables that linear regression cannot. \n",
    "            2. Polynomial regression can provide a better fit to the data than linear regression. \n",
    "         Disadvantages:\n",
    "            1. Polynomial regression can be more complex than linear regression, which can lead to overfitting if the model is not carefully tuned. \n",
    "            2. Polynomial regression can be sensitive to outliers.\n",
    "         Situations where polynomial regression is preferred:\n",
    "            1. When there is a non-linear relationship between the dependent variable and independent variable(s).\n",
    "            2. When a higher degree of accuracy is required in the predictions.\n",
    "            3. When there is enough data to fit a complex model without overfitting.\n",
    "\"\"\""
   ]
  }
 ],
 "metadata": {
  "kernelspec": {
   "display_name": "Python 3 (ipykernel)",
   "language": "python",
   "name": "python3"
  },
  "language_info": {
   "codemirror_mode": {
    "name": "ipython",
    "version": 3
   },
   "file_extension": ".py",
   "mimetype": "text/x-python",
   "name": "python",
   "nbconvert_exporter": "python",
   "pygments_lexer": "ipython3",
   "version": "3.10.8"
  }
 },
 "nbformat": 4,
 "nbformat_minor": 5
}
